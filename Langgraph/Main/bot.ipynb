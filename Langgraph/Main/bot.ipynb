{
 "cells": [
  {
   "cell_type": "code",
   "execution_count": 58,
   "id": "df6f4353",
   "metadata": {},
   "outputs": [],
   "source": [
    "import os \n",
    "from dotenv import load_dotenv\n",
    "from langchain_google_genai import ChatGoogleGenerativeAI\n",
    "from langchain_groq import ChatGroq\n",
    "from pydantic import BaseModel,Field\n",
    "from typing import Optional,Literal,Annotated\n",
    "from typing import TypedDict\n",
    "#persistance\n",
    "from langgraph.checkpoint.memory import MemorySaver\n",
    "load_dotenv()\n",
    "\n",
    "GROQ_API_KEY = os.getenv(\"GROQ_API_KEY\")\n",
    "GOOGLE_API_KEY = os.getenv(\"GOOGLE_API_KEY\")\n"
   ]
  },
  {
   "cell_type": "code",
   "execution_count": 2,
   "id": "c7c457d2",
   "metadata": {},
   "outputs": [],
   "source": [
    "Model = ChatGoogleGenerativeAI(model='gemini-2.5-flash',api_key=GOOGLE_API_KEY,temperature=.5)\n",
    "evaluator_llm =  ChatGoogleGenerativeAI(model='gemini-2.5-flash',api_key=GOOGLE_API_KEY,temperature=0)\n",
    "optimizer_llm = ChatGoogleGenerativeAI(model='gemini-2.5-flash',api_key=GOOGLE_API_KEY,temperature=.7)\n"
   ]
  },
  {
   "cell_type": "code",
   "execution_count": 59,
   "id": "1730d87e",
   "metadata": {},
   "outputs": [],
   "source": [
    "checkpointer = MemorySaver()"
   ]
  },
  {
   "cell_type": "code",
   "execution_count": 38,
   "id": "dae43d0f",
   "metadata": {},
   "outputs": [],
   "source": [
    "from langgraph.graph.message import add_messages\n",
    "from langchain_core.messages import BaseMessage\n",
    "from langgraph.graph import StateGraph,START,END\n",
    "from langchain_core.messages import AIMessage"
   ]
  },
  {
   "cell_type": "code",
   "execution_count": 30,
   "id": "646b5e7d",
   "metadata": {},
   "outputs": [],
   "source": [
    "class ChatState(TypedDict):\n",
    "    messages : Annotated[list[BaseMessage],add_messages]"
   ]
  },
  {
   "cell_type": "code",
   "execution_count": 64,
   "id": "c8733cbd",
   "metadata": {},
   "outputs": [],
   "source": [
    "def chatbot(state:ChatState):\n",
    "    response = Model.invoke(state['messages']).content\n",
    "    message = [AIMessage(content=response)]\n",
    "    print(state['messages'])\n",
    "    return{'messages':message}"
   ]
  },
  {
   "cell_type": "code",
   "execution_count": 65,
   "id": "e2424d92",
   "metadata": {},
   "outputs": [],
   "source": [
    "graph = StateGraph(ChatState)\n",
    "graph.add_node(\"chatbot\",chatbot)\n",
    "graph.add_edge(START,'chatbot')\n",
    "graph.add_edge('chatbot',END)\n",
    "\n",
    "workflow = graph.compile(checkpointer=checkpointer)"
   ]
  },
  {
   "cell_type": "code",
   "execution_count": 66,
   "id": "0c0ff513",
   "metadata": {},
   "outputs": [
    {
     "data": {
      "image/png": "[encoded data removed]",
      "text/plain": [
       "<IPython.core.display.Image object>"
      ]
     },
     "metadata": {},
     "output_type": "display_data"
    }
   ],
   "source": [
    "from IPython.display import Image,display\n",
    "try:\n",
    "    display(Image(workflow.get_graph().draw_mermaid_png()))\n",
    "except Exception as e:\n",
    "    print(e)"
   ]
  },
  {
   "cell_type": "code",
   "execution_count": 67,
   "id": "3644c855",
   "metadata": {},
   "outputs": [],
   "source": [
    "from langchain_core.messages import HumanMessage\n",
    "initial_state = {'messages':[HumanMessage(content=\"how to apply german study visa and which universistat are best for llm reserach?\")]}"
   ]
  },
  {
   "cell_type": "code",
   "execution_count": null,
   "id": "dbb91f47",
   "metadata": {},
   "outputs": [],
   "source": []
  },
  {
   "cell_type": "code",
   "execution_count": 69,
   "id": "d020217f",
   "metadata": {},
   "outputs": [
    {
     "name": "stdout",
     "output_type": "stream",
     "text": [
      "User: hello which one is larger 2 or 5\n",
      "[HumanMessage(content='hello my name is waris', additional_kwargs={}, response_metadata={}, id='18768539-beb5-4ce8-85cb-ae88d549c797'), AIMessage(content=\"Hello, Waris! It's nice to meet you. How can I assist you today?\", additional_kwargs={}, response_metadata={}, id='daacd23e-28c9-493f-8e9a-20e9870f2566'), HumanMessage(content='hello my name is waris', additional_kwargs={}, response_metadata={}, id='fb00ffb1-e116-4ba6-b428-31f4b1a77833'), AIMessage(content=\"Hello again, Waris! It's good to hear from you. What can I help you with today?\", additional_kwargs={}, response_metadata={}, id='2d5e2cf5-7fce-47f3-aaa3-94245cdc0cbb'), HumanMessage(content='do you know who i am?', additional_kwargs={}, response_metadata={}, id='8a640ac8-acda-4ffa-9047-a81e1a810cd2'), AIMessage(content='As an AI, I don\\'t have personal memory or the ability to \"know\" individuals like a human does. My interactions are stateless, meaning I don\\'t retain information about you beyond our current conversation.\\n\\nHowever, within this conversation, you\\'ve told me your name is Waris, so I know that much!\\n\\nHow can I help you today, Waris?', additional_kwargs={}, response_metadata={}, id='e3a22cfd-cc4c-44b0-8610-f30c97a1aed4'), HumanMessage(content='what is capital number 5 or 8', additional_kwargs={}, response_metadata={}, id='0607e938-7fce-48f1-a0ad-2734054a4d8a'), AIMessage(content='That\\'s an interesting question! Could you please clarify what you mean by \"capital number 5 or 8\"?\\n\\nAre you referring to:\\n*   The capital city of the 5th or 8th country on a specific list (and if so, which list)?\\n*   Something else entirely?\\n\\nOnce I understand what you\\'re looking for, I\\'ll do my best to provide the answer!', additional_kwargs={}, response_metadata={}, id='28048b6d-0d71-4130-a77e-b4b412a13e18'), HumanMessage(content='multiply the capital with 4', additional_kwargs={}, response_metadata={}, id='b90e5550-f047-4e5a-8e1d-f0ba5490d763'), AIMessage(content='I understand you\\'d like me to multiply a \"capital\" by 4, but I\\'m still not sure what \"the capital\" refers to.\\n\\nIn our previous exchange, I asked for clarification on \"capital number 5 or 8\" because it\\'s not a standard term.\\n\\nCould you please tell me what \"the capital\" is that you\\'d like me to multiply by 4? For example, are you thinking of:\\n\\n*   A specific number?\\n*   A value related to a country\\'s capital city (which would need to be defined first)?\\n\\nOnce I know what \"the capital\" is, I can certainly multiply it by 4 for you!', additional_kwargs={}, response_metadata={}, id='08ecae96-8fc7-4790-acc9-a40183eb1ad8'), HumanMessage(content='hello which is greater number 5 or 9', additional_kwargs={}, response_metadata={}, id='0e3695dd-20e4-49cf-b056-c371671d46e0'), AIMessage(content='Between 5 and 9, **9** is the greater number.', additional_kwargs={}, response_metadata={}, id='c09f69ae-875f-44c1-8bd7-794749f2999b'), HumanMessage(content='multiply it with 7', additional_kwargs={}, response_metadata={}, id='32bf3169-78dc-4e36-841a-8688dca964ff'), AIMessage(content='Okay, multiplying the greater number (which was 9) by 7:\\n\\n9 * 7 = **63**', additional_kwargs={}, response_metadata={}, id='5b7dc34f-5314-44c6-89c7-2d43982612d7'), HumanMessage(content='hello which one is larger 2 or 5', additional_kwargs={}, response_metadata={}, id='68c565e9-1838-43a2-bffe-5d46c2c816fa')]\n",
      "AI : Between 2 and 5, **5** is the larger number.\n",
      "User: multiply with 5\n",
      "[HumanMessage(content='hello my name is waris', additional_kwargs={}, response_metadata={}, id='18768539-beb5-4ce8-85cb-ae88d549c797'), AIMessage(content=\"Hello, Waris! It's nice to meet you. How can I assist you today?\", additional_kwargs={}, response_metadata={}, id='daacd23e-28c9-493f-8e9a-20e9870f2566'), HumanMessage(content='hello my name is waris', additional_kwargs={}, response_metadata={}, id='fb00ffb1-e116-4ba6-b428-31f4b1a77833'), AIMessage(content=\"Hello again, Waris! It's good to hear from you. What can I help you with today?\", additional_kwargs={}, response_metadata={}, id='2d5e2cf5-7fce-47f3-aaa3-94245cdc0cbb'), HumanMessage(content='do you know who i am?', additional_kwargs={}, response_metadata={}, id='8a640ac8-acda-4ffa-9047-a81e1a810cd2'), AIMessage(content='As an AI, I don\\'t have personal memory or the ability to \"know\" individuals like a human does. My interactions are stateless, meaning I don\\'t retain information about you beyond our current conversation.\\n\\nHowever, within this conversation, you\\'ve told me your name is Waris, so I know that much!\\n\\nHow can I help you today, Waris?', additional_kwargs={}, response_metadata={}, id='e3a22cfd-cc4c-44b0-8610-f30c97a1aed4'), HumanMessage(content='what is capital number 5 or 8', additional_kwargs={}, response_metadata={}, id='0607e938-7fce-48f1-a0ad-2734054a4d8a'), AIMessage(content='That\\'s an interesting question! Could you please clarify what you mean by \"capital number 5 or 8\"?\\n\\nAre you referring to:\\n*   The capital city of the 5th or 8th country on a specific list (and if so, which list)?\\n*   Something else entirely?\\n\\nOnce I understand what you\\'re looking for, I\\'ll do my best to provide the answer!', additional_kwargs={}, response_metadata={}, id='28048b6d-0d71-4130-a77e-b4b412a13e18'), HumanMessage(content='multiply the capital with 4', additional_kwargs={}, response_metadata={}, id='b90e5550-f047-4e5a-8e1d-f0ba5490d763'), AIMessage(content='I understand you\\'d like me to multiply a \"capital\" by 4, but I\\'m still not sure what \"the capital\" refers to.\\n\\nIn our previous exchange, I asked for clarification on \"capital number 5 or 8\" because it\\'s not a standard term.\\n\\nCould you please tell me what \"the capital\" is that you\\'d like me to multiply by 4? For example, are you thinking of:\\n\\n*   A specific number?\\n*   A value related to a country\\'s capital city (which would need to be defined first)?\\n\\nOnce I know what \"the capital\" is, I can certainly multiply it by 4 for you!', additional_kwargs={}, response_metadata={}, id='08ecae96-8fc7-4790-acc9-a40183eb1ad8'), HumanMessage(content='hello which is greater number 5 or 9', additional_kwargs={}, response_metadata={}, id='0e3695dd-20e4-49cf-b056-c371671d46e0'), AIMessage(content='Between 5 and 9, **9** is the greater number.', additional_kwargs={}, response_metadata={}, id='c09f69ae-875f-44c1-8bd7-794749f2999b'), HumanMessage(content='multiply it with 7', additional_kwargs={}, response_metadata={}, id='32bf3169-78dc-4e36-841a-8688dca964ff'), AIMessage(content='Okay, multiplying the greater number (which was 9) by 7:\\n\\n9 * 7 = **63**', additional_kwargs={}, response_metadata={}, id='5b7dc34f-5314-44c6-89c7-2d43982612d7'), HumanMessage(content='hello which one is larger 2 or 5', additional_kwargs={}, response_metadata={}, id='68c565e9-1838-43a2-bffe-5d46c2c816fa'), AIMessage(content='Between 2 and 5, **5** is the larger number.', additional_kwargs={}, response_metadata={}, id='04ddd816-5226-4cc8-abb3-3301be46ec64'), HumanMessage(content='multiply with 5', additional_kwargs={}, response_metadata={}, id='5bc820fa-2578-4f0e-be78-fb49e4bf3ac2')]\n",
      "AI : Okay, multiplying the larger number (which was 5) by 5:\n",
      "\n",
      "5 * 5 = **25**\n",
      "User: answer de jaldi\n",
      "[HumanMessage(content='hello my name is waris', additional_kwargs={}, response_metadata={}, id='18768539-beb5-4ce8-85cb-ae88d549c797'), AIMessage(content=\"Hello, Waris! It's nice to meet you. How can I assist you today?\", additional_kwargs={}, response_metadata={}, id='daacd23e-28c9-493f-8e9a-20e9870f2566'), HumanMessage(content='hello my name is waris', additional_kwargs={}, response_metadata={}, id='fb00ffb1-e116-4ba6-b428-31f4b1a77833'), AIMessage(content=\"Hello again, Waris! It's good to hear from you. What can I help you with today?\", additional_kwargs={}, response_metadata={}, id='2d5e2cf5-7fce-47f3-aaa3-94245cdc0cbb'), HumanMessage(content='do you know who i am?', additional_kwargs={}, response_metadata={}, id='8a640ac8-acda-4ffa-9047-a81e1a810cd2'), AIMessage(content='As an AI, I don\\'t have personal memory or the ability to \"know\" individuals like a human does. My interactions are stateless, meaning I don\\'t retain information about you beyond our current conversation.\\n\\nHowever, within this conversation, you\\'ve told me your name is Waris, so I know that much!\\n\\nHow can I help you today, Waris?', additional_kwargs={}, response_metadata={}, id='e3a22cfd-cc4c-44b0-8610-f30c97a1aed4'), HumanMessage(content='what is capital number 5 or 8', additional_kwargs={}, response_metadata={}, id='0607e938-7fce-48f1-a0ad-2734054a4d8a'), AIMessage(content='That\\'s an interesting question! Could you please clarify what you mean by \"capital number 5 or 8\"?\\n\\nAre you referring to:\\n*   The capital city of the 5th or 8th country on a specific list (and if so, which list)?\\n*   Something else entirely?\\n\\nOnce I understand what you\\'re looking for, I\\'ll do my best to provide the answer!', additional_kwargs={}, response_metadata={}, id='28048b6d-0d71-4130-a77e-b4b412a13e18'), HumanMessage(content='multiply the capital with 4', additional_kwargs={}, response_metadata={}, id='b90e5550-f047-4e5a-8e1d-f0ba5490d763'), AIMessage(content='I understand you\\'d like me to multiply a \"capital\" by 4, but I\\'m still not sure what \"the capital\" refers to.\\n\\nIn our previous exchange, I asked for clarification on \"capital number 5 or 8\" because it\\'s not a standard term.\\n\\nCould you please tell me what \"the capital\" is that you\\'d like me to multiply by 4? For example, are you thinking of:\\n\\n*   A specific number?\\n*   A value related to a country\\'s capital city (which would need to be defined first)?\\n\\nOnce I know what \"the capital\" is, I can certainly multiply it by 4 for you!', additional_kwargs={}, response_metadata={}, id='08ecae96-8fc7-4790-acc9-a40183eb1ad8'), HumanMessage(content='hello which is greater number 5 or 9', additional_kwargs={}, response_metadata={}, id='0e3695dd-20e4-49cf-b056-c371671d46e0'), AIMessage(content='Between 5 and 9, **9** is the greater number.', additional_kwargs={}, response_metadata={}, id='c09f69ae-875f-44c1-8bd7-794749f2999b'), HumanMessage(content='multiply it with 7', additional_kwargs={}, response_metadata={}, id='32bf3169-78dc-4e36-841a-8688dca964ff'), AIMessage(content='Okay, multiplying the greater number (which was 9) by 7:\\n\\n9 * 7 = **63**', additional_kwargs={}, response_metadata={}, id='5b7dc34f-5314-44c6-89c7-2d43982612d7'), HumanMessage(content='hello which one is larger 2 or 5', additional_kwargs={}, response_metadata={}, id='68c565e9-1838-43a2-bffe-5d46c2c816fa'), AIMessage(content='Between 2 and 5, **5** is the larger number.', additional_kwargs={}, response_metadata={}, id='04ddd816-5226-4cc8-abb3-3301be46ec64'), HumanMessage(content='multiply with 5', additional_kwargs={}, response_metadata={}, id='5bc820fa-2578-4f0e-be78-fb49e4bf3ac2'), AIMessage(content='Okay, multiplying the larger number (which was 5) by 5:\\n\\n5 * 5 = **25**', additional_kwargs={}, response_metadata={}, id='ff3cef1b-e470-40a5-9ed1-7f489c46cab9'), HumanMessage(content='answer de jaldi', additional_kwargs={}, response_metadata={}, id='624b3b8c-8a41-4675-b9a8-6ffba9644851')]\n",
      "AI : Okay, I understand you want an answer quickly!\n",
      "\n",
      "Please tell me what question you'd like me to answer. I'm ready!\n",
      "User: exit\n"
     ]
    }
   ],
   "source": [
    "thread_id = '1'\n",
    "while True:\n",
    "    #in loop each time we invoke the message llm gave response then end the execution state remove each and every thing.\n",
    "    # once again user came but user came but dont have previous hisotry becuase that was the part of privious invokation.\n",
    "    message = input(\"User: \")\n",
    "    print(\"User:\",message)\n",
    "    config = {\"configurable\": {\"thread_id\": thread_id}}\n",
    "    if message.strip().lower() in ['exit','quit','bye']:\n",
    "        break\n",
    "    \n",
    "    response = workflow.invoke({'messages':[HumanMessage(content=message)]},config=config)\n",
    "    print(\"AI :\",response['messages'][-1].content)"
   ]
  },
  {
   "cell_type": "code",
   "execution_count": null,
   "id": "33c5483b",
   "metadata": {},
   "outputs": [],
   "source": []
  },
  {
   "cell_type": "code",
   "execution_count": null,
   "id": "99415e3f",
   "metadata": {},
   "outputs": [],
   "source": [
    "\n"
   ]
  },
  {
   "cell_type": "code",
   "execution_count": null,
   "id": "c14062ed",
   "metadata": {},
   "outputs": [],
   "source": []
  }
 ],
 "metadata": {
  "kernelspec": {
   "display_name": "Python 3",
   "language": "python",
   "name": "python3"
  },
  "language_info": {
   "codemirror_mode": {
    "name": "ipython",
    "version": 3
   },
   "file_extension": ".py",
   "mimetype": "text/x-python",
   "name": "python",
   "nbconvert_exporter": "python",
   "pygments_lexer": "ipython3",
   "version": "3.13.7"
  }
 },
 "nbformat": 4,
 "nbformat_minor": 5
}
