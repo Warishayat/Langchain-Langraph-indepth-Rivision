{
 "cells": [
  {
   "cell_type": "code",
   "execution_count": 6,
   "id": "11041d3d",
   "metadata": {},
   "outputs": [],
   "source": [
    "import os \n",
    "from dotenv import load_dotenv\n",
    "from langchain_google_genai import ChatGoogleGenerativeAI\n",
    "from langchain_groq import ChatGroq\n",
    "from pydantic import BaseModel,Field\n",
    "from typing import Optional,Literal\n",
    "from typing import TypedDict\n",
    "load_dotenv()\n",
    "\n",
    "\n",
    "\n",
    "GROQ_API_KEY = os.getenv(\"GROQ_API_KEY\")\n",
    "GOOGLE_API_KEY = os.getenv(\"GOOGLE_API_KEY\")\n"
   ]
  },
  {
   "cell_type": "code",
   "execution_count": 2,
   "id": "5de8492b",
   "metadata": {},
   "outputs": [
    {
     "data": {
      "text/plain": [
       "AIMessage(content='2+2 = 4', additional_kwargs={}, response_metadata={'prompt_feedback': {'block_reason': 0, 'safety_ratings': []}, 'finish_reason': 'STOP', 'safety_ratings': []}, id='run--52d20312-1179-4576-b545-29fe44bb36e1-0', usage_metadata={'input_tokens': 8, 'output_tokens': 6, 'total_tokens': 33, 'input_token_details': {'cache_read': 0}})"
      ]
     },
     "execution_count": 2,
     "metadata": {},
     "output_type": "execute_result"
    }
   ],
   "source": [
    "Model = ChatGoogleGenerativeAI(model=\"gemini-2.5-flash\",api_key=GOOGLE_API_KEY)\n",
    "Model.invoke('What is 2+2?')"
   ]
  },
  {
   "cell_type": "code",
   "execution_count": 7,
   "id": "af008535",
   "metadata": {},
   "outputs": [],
   "source": [
    "# lets make a review replier which will check review is postive\n",
    "# or negative,if its postive then simply thanks to the customer\n",
    "# if its negative then we will check the problem , user tone like \n",
    "# anger, calm etc and urgency type .\n",
    "# then based on it we will assist the user. "
   ]
  },
  {
   "cell_type": "code",
   "execution_count": null,
   "id": "3bcb68db",
   "metadata": {},
   "outputs": [],
   "source": [
    "class SentimentSchema(BaseModel):\n",
    "    sentiment  : Literal['positive','negative'] = Field(description=\"sentiment of the review\")\n",
    "    "
   ]
  },
  {
   "cell_type": "code",
   "execution_count": 35,
   "id": "fb670a12",
   "metadata": {},
   "outputs": [],
   "source": [
    "class daignose_schema(BaseModel):\n",
    "    issue_type :Literal[\"bug\",'ux','performance','support','other'] = Field(description=\"the category of issue mentioned in the review\")\n",
    "    tone:Literal['normal','anger','calm',\"other\"]  = Field(description=\"The tone of the user from the review\")\n",
    "    urgency: Literal['low','medium','high'] =  Field(description=\"how urgency or the critical issue is.\")\n",
    "    "
   ]
  },
  {
   "cell_type": "code",
   "execution_count": 36,
   "id": "367557db",
   "metadata": {},
   "outputs": [],
   "source": [
    "Model_01 = Model.with_structured_output(SentimentSchema)\n",
    "Model_02 = Model.with_structured_output(daignose_schema)"
   ]
  },
  {
   "cell_type": "code",
   "execution_count": 26,
   "id": "5cea0196",
   "metadata": {},
   "outputs": [
    {
     "data": {
      "text/plain": [
       "'positive'"
      ]
     },
     "execution_count": 26,
     "metadata": {},
     "output_type": "execute_result"
    }
   ],
   "source": [
    "review = \"this phone is pathetic\"\n",
    "prompt = \"what is review of the sentiment - this software is to good\"\n",
    "Model_01.invoke(prompt).sentiment"
   ]
  },
  {
   "cell_type": "code",
   "execution_count": 34,
   "id": "6094e200",
   "metadata": {},
   "outputs": [],
   "source": [
    "class reviewState(TypedDict):\n",
    "    review:str\n",
    "    sentiment:Literal['positive','negative']\n",
    "    daignosis:dict\n",
    "    response:str\n",
    "\n"
   ]
  },
  {
   "cell_type": "code",
   "execution_count": 92,
   "id": "22d3c49e",
   "metadata": {},
   "outputs": [],
   "source": [
    "def find_sentiment(state: reviewState):\n",
    "    review = state['review']\n",
    "    prompt = f\"For the following review, find the sentiment:\\n{review}\"\n",
    "    result = Model_01.invoke(prompt)\n",
    "    return {'sentiment': result}\n",
    "\n",
    "def check_sentiment(state: reviewState) -> Literal['positive_response', 'diagnose']:\n",
    "    if state['sentiment'].sentiment == 'positive':\n",
    "        return 'positive_response'\n",
    "    else:\n",
    "        return 'diagnose'\n",
    "\n",
    "def positive_response(state: reviewState):\n",
    "    prompt = f\"Write a warm thank-you message based on this review:\\n- {state['review']}\"\n",
    "    positive_output = Model.invoke(prompt).content\n",
    "    return {'response': positive_output}\n",
    "\n",
    "def diagnose(state: reviewState):\n",
    "    prompt = f\"\"\"Diagnose this negative review:\\n- {state['review']}\\nReturn issue_type, tone, and urgency.\"\"\"\n",
    "    neg_review = Model_02.invoke(prompt)\n",
    "    return {'daignosis': neg_review.model_dump()}\n",
    "\n",
    "def negative_response(state: reviewState):\n",
    "    diagnosis = state['daignosis']\n",
    "    prompt = f\"\"\"You are a support assistant.\n",
    "The user had a {diagnosis['issue_type']}, issue sounded {diagnosis['tone']}, and urgency level {diagnosis['urgency']}.\n",
    "Write a helpful empathetic message for the user. It should be simple and concise.\"\"\"\n",
    "    response = Model.invoke(prompt).content\n",
    "    return {'response': response}\n"
   ]
  },
  {
   "cell_type": "code",
   "execution_count": 93,
   "id": "1ae88341",
   "metadata": {},
   "outputs": [],
   "source": [
    "from langgraph.graph import StateGraph,START,END\n",
    "graph = StateGraph(reviewState)\n",
    "graph.add_node(\"find_sentiment\", find_sentiment)\n",
    "graph.add_node(\"positive_response\", positive_response)\n",
    "graph.add_node(\"diagnose\", diagnose)\n",
    "graph.add_node(\"negative_response\", negative_response)\n",
    "\n",
    "#edges\n",
    "graph.add_edge(START, \"find_sentiment\")\n",
    "graph.add_conditional_edges(\"find_sentiment\", check_sentiment)\n",
    "graph.add_edge(\"positive_response\", END)\n",
    "graph.add_edge(\"diagnose\", \"negative_response\")  \n",
    "graph.add_edge(\"negative_response\", END)\n",
    "\n",
    "Workflow = graph.compile()\n"
   ]
  },
  {
   "cell_type": "code",
   "execution_count": 94,
   "id": "f350b5bc",
   "metadata": {},
   "outputs": [
    {
     "data": {
      "image/jpeg": "[encoded data removed]",
      "text/plain": [
       "<IPython.core.display.Image object>"
      ]
     },
     "metadata": {},
     "output_type": "display_data"
    }
   ],
   "source": [
    "from IPython.display import Image, display\n",
    "try:\n",
    "    png_data = Workflow.get_graph().draw_mermaid_png()\n",
    "    display(Image(data=png_data))\n",
    "except Exception as e:\n",
    "    raise ValueError(f\"Error displaying graph image: {e}\")\n"
   ]
  },
  {
   "cell_type": "code",
   "execution_count": 96,
   "id": "227c8c11",
   "metadata": {},
   "outputs": [
    {
     "name": "stdout",
     "output_type": "stream",
     "text": [
      "{'review': 'This product is pathetic ,i tied to login from last an hour but authetication screen is stuck', 'sentiment': SentimentSchema(sentiment='negative'), 'daignosis': {'issue_type': 'bug', 'tone': 'anger', 'urgency': 'high'}, 'response': \"I'm so sorry to hear you've hit a bug – that sounds incredibly frustrating, and I understand this is urgent.\\n\\nPlease tell me more about what happened so I can help get this resolved for you as quickly as possible.\"}\n"
     ]
    }
   ],
   "source": [
    "initial_state= {\"review\":\"This product is pathetic ,i tied to login from last an hour but authetication screen is stuck\"}\n",
    "result=Workflow.invoke(initial_state)\n",
    "print(result)"
   ]
  },
  {
   "cell_type": "code",
   "execution_count": null,
   "id": "573bee3c",
   "metadata": {},
   "outputs": [],
   "source": []
  }
 ],
 "metadata": {
  "kernelspec": {
   "display_name": "Python 3",
   "language": "python",
   "name": "python3"
  },
  "language_info": {
   "codemirror_mode": {
    "name": "ipython",
    "version": 3
   },
   "file_extension": ".py",
   "mimetype": "text/x-python",
   "name": "python",
   "nbconvert_exporter": "python",
   "pygments_lexer": "ipython3",
   "version": "3.13.7"
  }
 },
 "nbformat": 4,
 "nbformat_minor": 5
}
