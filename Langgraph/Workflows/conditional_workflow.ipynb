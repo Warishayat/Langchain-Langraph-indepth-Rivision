{
 "cells": [
  {
   "cell_type": "code",
   "execution_count": 6,
   "id": "11041d3d",
   "metadata": {},
   "outputs": [],
   "source": [
    "import os \n",
    "from dotenv import load_dotenv\n",
    "from langchain_google_genai import ChatGoogleGenerativeAI\n",
    "from langchain_groq import ChatGroq\n",
    "from pydantic import BaseModel,Field\n",
    "from typing import Optional,Literal\n",
    "from typing import TypedDict\n",
    "load_dotenv()\n",
    "\n",
    "\n",
    "\n",
    "GROQ_API_KEY = os.getenv(\"GROQ_API_KEY\")\n",
    "GOOGLE_API_KEY = os.getenv(\"GOOGLE_API_KEY\")\n"
   ]
  },
  {
   "cell_type": "code",
   "execution_count": 2,
   "id": "5de8492b",
   "metadata": {},
   "outputs": [
    {
     "data": {
      "text/plain": [
       "AIMessage(content='2+2 = 4', additional_kwargs={}, response_metadata={'prompt_feedback': {'block_reason': 0, 'safety_ratings': []}, 'finish_reason': 'STOP', 'safety_ratings': []}, id='run--52d20312-1179-4576-b545-29fe44bb36e1-0', usage_metadata={'input_tokens': 8, 'output_tokens': 6, 'total_tokens': 33, 'input_token_details': {'cache_read': 0}})"
      ]
     },
     "execution_count": 2,
     "metadata": {},
     "output_type": "execute_result"
    }
   ],
   "source": [
    "Model = ChatGoogleGenerativeAI(model=\"gemini-2.5-flash\",api_key=GOOGLE_API_KEY)\n",
    "Model.invoke('What is 2+2?')"
   ]
  },
  {
   "cell_type": "code",
   "execution_count": 7,
   "id": "af008535",
   "metadata": {},
   "outputs": [],
   "source": [
    "# lets make a review replier which will check review is postive\n",
    "# or negative,if its postive then simply thanks to the customer\n",
    "# if its negative then we will check the problem , user tone like \n",
    "# anger, calm etc and urgency type .\n",
    "# then based on it we will assist the user. "
   ]
  },
  {
   "cell_type": "code",
   "execution_count": 24,
   "id": "3bcb68db",
   "metadata": {},
   "outputs": [],
   "source": [
    "class SentimentSchema(BaseModel):\n",
    "    sentiment  : Literal['positive','negative'] = Field(description=\"sentiment of the review\")\n",
    "    "
   ]
  },
  {
   "cell_type": "code",
   "execution_count": 25,
   "id": "367557db",
   "metadata": {},
   "outputs": [],
   "source": [
    "Model_01 = Model.with_structured_output(SentimentSchema)"
   ]
  },
  {
   "cell_type": "code",
   "execution_count": 26,
   "id": "5cea0196",
   "metadata": {},
   "outputs": [
    {
     "data": {
      "text/plain": [
       "'positive'"
      ]
     },
     "execution_count": 26,
     "metadata": {},
     "output_type": "execute_result"
    }
   ],
   "source": [
    "review = \"this phone is pathetic\"\n",
    "prompt = \"what is review of the sentiment - this software is to good\"\n",
    "Model_01.invoke(prompt).sentiment"
   ]
  },
  {
   "cell_type": "code",
   "execution_count": 34,
   "id": "6094e200",
   "metadata": {},
   "outputs": [],
   "source": [
    "class reviewState(TypedDict):\n",
    "    review:str\n",
    "    sentiment:Literal['positive','negative']\n",
    "    daignosis:dict\n",
    "    response:str\n",
    "\n"
   ]
  },
  {
   "cell_type": "code",
   "execution_count": null,
   "id": "22d3c49e",
   "metadata": {},
   "outputs": [],
   "source": [
    "def find_sentiment(state:reviewState):\n",
    "    review = state['review']\n",
    "    prompt = f\"for the following review find the sentiment \\n {review}\"\n",
    "    result = Model_01.invoke(prompt)\n",
    "    return {'sentiment':result}\n",
    "\n",
    "def check_sentiment(state:reviewState)->Literal['positive_response','daignose']:\n",
    "    if state['sentiment'] == 'positive':\n",
    "        return 'positive_response'\n",
    "    else:\n",
    "        'daignose'"
   ]
  },
  {
   "cell_type": "code",
   "execution_count": null,
   "id": "1ae88341",
   "metadata": {},
   "outputs": [],
   "source": [
    "from langgraph.graph import StateGraph,START,END\n",
    "\n",
    "graph = StateGraph(reviewState)\n",
    "graph.add_node(\"find_sentiment\",find_sentiment)\n",
    "graph.add_conditional_edges('find_sentiment',\"check_sentiment\")\n",
    "graph.add_node(\"positive_response\",positive_response)\n",
    "graph.add_node(\"daignose\",daignose)\n",
    "graph.add_edge(START,'find_sentiment')\n",
    "graph.add_edge('find_sentiment',END)\n",
    "\n",
    "workflow = graph.compile()"
   ]
  },
  {
   "cell_type": "code",
   "execution_count": 33,
   "id": "227c8c11",
   "metadata": {},
   "outputs": [
    {
     "name": "stdout",
     "output_type": "stream",
     "text": [
      "{'review': 'this phone is very good user experiance i appricate it', 'sentiment': SentimentSchema(sentiment='positive')}\n"
     ]
    }
   ],
   "source": [
    "initial_state= {\"review\":\"this phone is very good user experiance i appricate it\"}\n",
    "result=workflow.invoke(initial_state)\n",
    "print(result)"
   ]
  },
  {
   "cell_type": "code",
   "execution_count": null,
   "id": "573bee3c",
   "metadata": {},
   "outputs": [],
   "source": []
  }
 ],
 "metadata": {
  "kernelspec": {
   "display_name": "Python 3",
   "language": "python",
   "name": "python3"
  },
  "language_info": {
   "codemirror_mode": {
    "name": "ipython",
    "version": 3
   },
   "file_extension": ".py",
   "mimetype": "text/x-python",
   "name": "python",
   "nbconvert_exporter": "python",
   "pygments_lexer": "ipython3",
   "version": "3.13.7"
  }
 },
 "nbformat": 4,
 "nbformat_minor": 5
}
