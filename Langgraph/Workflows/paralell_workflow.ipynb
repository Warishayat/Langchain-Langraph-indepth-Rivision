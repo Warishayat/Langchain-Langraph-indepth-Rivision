{
 "cells": [
  {
   "cell_type": "code",
   "execution_count": 11,
   "id": "1dd3f1f6",
   "metadata": {},
   "outputs": [],
   "source": [
    "import os \n",
    "from dotenv import load_dotenv\n",
    "from langchain_google_genai import ChatGoogleGenerativeAI\n",
    "from langchain_groq import ChatGroq\n",
    "from pydantic import BaseModel,Field\n",
    "from typing import Optional,Literal,Annotated\n",
    "from typing import TypedDict\n",
    "import operator\n",
    "load_dotenv()\n",
    "\n",
    "\n",
    "\n",
    "GROQ_API_KEY = os.getenv(\"GROQ_API_KEY\")\n",
    "GOOGLE_API_KEY = os.getenv(\"GOOGLE_API_KEY\")\n"
   ]
  },
  {
   "cell_type": "code",
   "execution_count": 2,
   "id": "cceaac10",
   "metadata": {},
   "outputs": [],
   "source": [
    "Model = ChatGoogleGenerativeAI(model='gemini-2.5-flash',api_key=GOOGLE_API_KEY,temperature=0)"
   ]
  },
  {
   "cell_type": "code",
   "execution_count": 5,
   "id": "b830ce3a",
   "metadata": {},
   "outputs": [
    {
     "data": {
      "text/plain": [
       "AIMessage(content=\"Without a doubt, the most famous Khan is **Genghis Khan**.\\n\\nHere's why:\\n\\n1.  **Founder of the Mongol Empire:** He united the nomadic tribes of Mongolia and founded the largest contiguous land empire in history.\\n2.  **Global Recognition:** His name is synonymous with conquest, empire-building, and a pivotal period in world history. Most people, even those not deeply familiar with history, have heard of Genghis Khan.\\n3.  **Historical Impact:** His campaigns and the empire he established profoundly reshaped the political, cultural, and demographic landscape of Eurasia.\\n\\nWhile other Khans like **Kublai Khan** (his grandson, who conquered China and established the Yuan Dynasty, famously hosting Marco Polo) are also very well-known, Genghis Khan's name resonates globally as the original and most impactful figure.\", additional_kwargs={}, response_metadata={'prompt_feedback': {'block_reason': 0, 'safety_ratings': []}, 'finish_reason': 'STOP', 'safety_ratings': []}, id='run--e683b4b0-2fdb-489a-8486-b0ddb55c6c6c-0', usage_metadata={'input_tokens': 7, 'output_tokens': 174, 'total_tokens': 1089, 'input_token_details': {'cache_read': 0}})"
      ]
     },
     "execution_count": 5,
     "metadata": {},
     "output_type": "execute_result"
    }
   ],
   "source": [
    "Model.invoke(\"which khan is most famous?\")"
   ]
  },
  {
   "cell_type": "code",
   "execution_count": 6,
   "id": "9a26459d",
   "metadata": {},
   "outputs": [],
   "source": [
    "class EvaluationSchema(BaseModel):\n",
    "    feedback :str = Field(description=\"Detail feedback for the essay\")\n",
    "    score : int  = Field(description=\"score out of 10\",gt=0,lt=10)\n",
    "\n",
    "structured_model = Model.with_structured_output(EvaluationSchema)"
   ]
  },
  {
   "cell_type": "code",
   "execution_count": null,
   "id": "db06eab3",
   "metadata": {},
   "outputs": [],
   "source": [
    "essay = \"\"\"\n",
    "Quantum physics, also known as quantum mechanics, is the branch of physics that studies the behavior of matter and energy at the smallest scales, such as atoms and subatomic particles. Unlike classical physics, which follows predictable laws of motion, quantum physics reveals a world governed by probabilities and uncertainties. One of its central principles is the wave-particle duality, which shows that particles like electrons and photons can behave both as waves and particles depending on how they are observed. Another key concept, Heisenberg’s uncertainty principle, states that certain properties, such as position and momentum, cannot both be measured with complete precision at the same time. These ideas challenge our traditional understanding of reality and highlight the strange, counterintuitive nature of the quantum realm.\n",
    "Despite its abstract and sometimes puzzling concepts, quantum physics has had profound practical impacts on technology and modern life. The development of semiconductors, which are the foundation of computers and smartphones, relies on quantum mechanics. Other technologies, such as lasers, magnetic resonance imaging (MRI), and even the emerging field of quantum computing, stem directly from quantum principles. Beyond technology, quantum physics has also influenced philosophy by raising questions about the nature of reality, observation, and the role of consciousness in measurement. In this way, quantum mechanics is not only a cornerstone of modern science but also a field that continues to expand human understanding of the universe.\n",
    "\"\"\""
   ]
  },
  {
   "cell_type": "code",
   "execution_count": null,
   "id": "791367a2",
   "metadata": {},
   "outputs": [
    {
     "data": {
      "text/plain": [
       "EvaluationSchema(feedback='The essay demonstrates excellent language quality. It is clear, concise, and well-structured, making complex scientific concepts accessible. The vocabulary is precise and appropriate, and the sentence structures are varied, contributing to a smooth and engaging reading experience. There are no grammatical errors or awkward phrasing.', score=9)"
      ]
     },
     "execution_count": 8,
     "metadata": {},
     "output_type": "execute_result"
    }
   ],
   "source": [
    "prompt = f\"evalute the language quality of the following essay and provide the score between 0 to 10. -essay {essay}\"\n",
    "structured_model.invoke(prompt)"
   ]
  },
  {
   "cell_type": "code",
   "execution_count": 44,
   "id": "01cfa6ab",
   "metadata": {},
   "outputs": [],
   "source": [
    "class CSS_state(TypedDict):\n",
    "    essay:str\n",
    "    language_feedback:str\n",
    "    analysis_feedback :str\n",
    "    clarity_feedback : str\n",
    "    overall_feedback : str\n",
    "    individual_scores : Annotated[list[int],operator.add]\n",
    "    avg_score : float"
   ]
  },
  {
   "cell_type": "code",
   "execution_count": 45,
   "id": "a2fcc295",
   "metadata": {},
   "outputs": [],
   "source": [
    "def evaluate_language(state:CSS_state):\n",
    "    prompt = f\"evalute the language quality of the following essay and provide the score between 0 to 10. -essay {state['essay']}\"\n",
    "    result=structured_model.invoke(prompt)\n",
    "    return {\"language_feedback\":result.feedback,\"individual_scores\":[result.score]}\n",
    "\n",
    "def evaluate_analysis(state:CSS_state):\n",
    "    prompt = f\"evalute the depth of  analysis the followig,and provide the score between 0 to 10. -essay {state['essay']}\"\n",
    "    result=structured_model.invoke(prompt)\n",
    "    return {\"analysis_feedback\":result.feedback,\"individual_scores\":[result.score]}\n",
    "\n",
    "def evaluate_thought(state:CSS_state):\n",
    "    prompt = f\"evalute the clarity of thought,and provide the score between 0 to 10. -essay {state['essay']}\"\n",
    "    result=structured_model.invoke(prompt)\n",
    "    return {\"clarity_feedback\":result.feedback,\"individual_scores\":[result.score]}\n",
    "\n",
    "def final_evaluate(state:CSS_state):\n",
    "    # summary feedback and average\n",
    "    prompt = f\"based on the following feedback create the summary of feedback - feedback are {state['language_feedback']}  language feedback , {state['analysis_feedback']}- depth of analysis analysis feedback ,{state['clarity_feedback']} - clarity fedback\"\n",
    "    overall_summary=Model.invoke(prompt).content\n",
    "    avg_score  = sum(state['individual_scores'])/len(state['individual_scores'])\n",
    "    return {\"overall_feedback\":overall_summary,\"avg_score\":avg_score}\n"
   ]
  },
  {
   "cell_type": "code",
   "execution_count": 46,
   "id": "edbd4052",
   "metadata": {},
   "outputs": [],
   "source": [
    "from langgraph.graph import StateGraph,START,END\n",
    "\n",
    "graph = StateGraph(CSS_state)\n",
    "\n",
    "#add noes in it\n",
    "graph.add_node(\"evaluate_language\",evaluate_language)\n",
    "graph.add_node(\"evaluate_analysis\",evaluate_analysis)\n",
    "graph.add_node(\"evaluate_thought\",evaluate_thought)\n",
    "graph.add_node(\"final_evaluate\",final_evaluate)\n",
    "\n",
    "\n",
    "#lets make the edges\n",
    "graph.add_edge(START,\"evaluate_language\")\n",
    "graph.add_edge(START,\"evaluate_analysis\")\n",
    "graph.add_edge(START,\"evaluate_thought\")\n",
    "\n",
    "graph.add_edge(\"evaluate_language\",\"final_evaluate\")\n",
    "graph.add_edge(\"evaluate_analysis\",\"final_evaluate\")\n",
    "graph.add_edge(\"evaluate_thought\",\"final_evaluate\")\n",
    "\n",
    "graph.add_edge(\"final_evaluate\",END)\n",
    "\n",
    "\n",
    "workflow = graph.compile()"
   ]
  },
  {
   "cell_type": "code",
   "execution_count": 47,
   "id": "a506e870",
   "metadata": {},
   "outputs": [],
   "source": [
    "essay = \"\"\"\n",
    "Quantum physics, also known as quantum mechanics, is the branch of physics that studies the behavior of matter and energy at the smallest scales, such as atoms and subatomic particles. Unlike classical physics, which follows predictable laws of motion, quantum physics reveals a world governed by probabilities and uncertainties. One of its central principles is the wave-particle duality, which shows that particles like electrons and photons can behave both as waves and particles depending on how they are observed. Another key concept, Heisenberg’s uncertainty principle, states that certain properties, such as position and momentum, cannot both be measured with complete precision at the same time. These ideas challenge our traditional understanding of reality and highlight the strange, counterintuitive nature of the quantum realm.\n",
    "\n",
    "Despite its abstract and sometimes puzzling concepts, quantum physics has had profound practical impacts on technology and modern life. The development of semiconductors, which are the foundation of computers and smartphones, relies on quantum mechanics. Other technologies, such as lasers, magnetic resonance imaging (MRI), and even the emerging field of quantum computing, stem directly from quantum principles. Beyond technology, quantum physics has also influenced philosophy by raising questions about the nature of reality, observation, and the role of consciousness in measurement. In this way, quantum mechanics is not only a cornerstone of modern science but also a field that continues to expand human understanding of the universe.\n",
    "\n",
    "\"\"\""
   ]
  },
  {
   "cell_type": "code",
   "execution_count": 48,
   "id": "6998826c",
   "metadata": {},
   "outputs": [],
   "source": [
    "initial_state = {\n",
    "    'essay' : essay\n",
    "}"
   ]
  },
  {
   "cell_type": "code",
   "execution_count": 50,
   "id": "1451e9b4",
   "metadata": {},
   "outputs": [
    {
     "data": {
      "text/plain": [
       "{'essay': '\\nQuantum physics, also known as quantum mechanics, is the branch of physics that studies the behavior of matter and energy at the smallest scales, such as atoms and subatomic particles. Unlike classical physics, which follows predictable laws of motion, quantum physics reveals a world governed by probabilities and uncertainties. One of its central principles is the wave-particle duality, which shows that particles like electrons and photons can behave both as waves and particles depending on how they are observed. Another key concept, Heisenberg’s uncertainty principle, states that certain properties, such as position and momentum, cannot both be measured with complete precision at the same time. These ideas challenge our traditional understanding of reality and highlight the strange, counterintuitive nature of the quantum realm.\\n\\nDespite its abstract and sometimes puzzling concepts, quantum physics has had profound practical impacts on technology and modern life. The development of semiconductors, which are the foundation of computers and smartphones, relies on quantum mechanics. Other technologies, such as lasers, magnetic resonance imaging (MRI), and even the emerging field of quantum computing, stem directly from quantum principles. Beyond technology, quantum physics has also influenced philosophy by raising questions about the nature of reality, observation, and the role of consciousness in measurement. In this way, quantum mechanics is not only a cornerstone of modern science but also a field that continues to expand human understanding of the universe.\\n\\n',\n",
       " 'language_feedback': 'The essay demonstrates excellent language quality. It is clear, concise, and well-structured, making complex scientific concepts accessible. The vocabulary is precise and appropriate, and the sentence structures are varied, contributing to a smooth and engaging reading experience. There are no grammatical errors or awkward phrasing.',\n",
       " 'analysis_feedback': \"The essay provides a clear and well-structured overview of quantum physics, effectively introducing its core principles like wave-particle duality and Heisenberg's uncertainty principle. It also successfully highlights the profound practical impacts on technology and its influence on philosophy. However, the depth of analysis could be significantly enhanced. While concepts are introduced, they are not explored in detail, lacking explanations of the underlying mechanisms or experimental evidence. Similarly, the discussion of technological applications and philosophical implications is more descriptive than analytical, without delving into *how* quantum principles enable these advancements or the specific debates they provoke. To improve, consider elaborating on the 'why' and 'how' behind these phenomena and applications.\",\n",
       " 'clarity_feedback': \"The essay demonstrates excellent clarity of thought. It provides a concise and accurate overview of quantum physics, effectively explaining complex concepts like wave-particle duality and Heisenberg's uncertainty principle in an accessible manner. The structure is logical, moving from fundamental principles to practical applications and philosophical implications. The language is precise and easy to understand, making the essay highly coherent and informative.\",\n",
       " 'overall_feedback': \"This essay demonstrates **excellent language quality, clarity of thought, and overall coherence**. The writing is clear, concise, and well-structured, making complex scientific concepts highly accessible. The vocabulary is precise, sentence structures are varied, and there are no grammatical errors, contributing to a smooth and engaging reading experience. The logical flow, moving from fundamental principles to practical applications and philosophical implications, is effective.\\n\\nWhile the essay successfully introduces core quantum physics principles (like wave-particle duality and Heisenberg's uncertainty principle) and highlights their profound impacts on technology and philosophy, the primary area for development lies in the **depth of analysis**. Concepts are introduced but not explored in sufficient detail, lacking explanations of underlying mechanisms or experimental evidence. Similarly, discussions of technological applications and philosophical implications are more descriptive than analytical, needing further elaboration on the 'why' and 'how' behind these phenomena and the specific debates they provoke. To improve, the essay should delve deeper into the analytical exploration of these topics.\",\n",
       " 'individual_scores': [7, 9, 9],\n",
       " 'avg_score': 8.333333333333334}"
      ]
     },
     "execution_count": 50,
     "metadata": {},
     "output_type": "execute_result"
    }
   ],
   "source": [
    "workflow.invoke(initial_state)"
   ]
  },
  {
   "cell_type": "code",
   "execution_count": 51,
   "id": "662ad168",
   "metadata": {},
   "outputs": [],
   "source": [
    "essay2 = \"\"\"\n",
    "ok here you go — two short paragraphs written purposely bad / messy like you asked:\n",
    "\n",
    "i was like woke up real late n couldnt find my phone n everything was a mess. teacher was yellin but i didn’t care, i just rolled outta bed n threw on some clothes, ya know? food was cold as hell but i ate it anyway cus whatever. day went by slow n boring, ppl keep talkin that same old stuff, i zoned out and doodled on my book instead.\n",
    "\n",
    "then evening came n i tried doin homework but brain was done, couldnt focus, just scribbled some random crap. friends hit me up but i was feelin lazy so i ghosted em, sry not sry. ended up watchin dumb vids n laughing at stupid memes till sleepy took over. that’s it, nothing fancy, just one of those meh days.\n",
    "\n",
    "\"\"\""
   ]
  },
  {
   "cell_type": "code",
   "execution_count": 53,
   "id": "3f46de6e",
   "metadata": {},
   "outputs": [
    {
     "data": {
      "text/plain": [
       "{'essay': '\\nok here you go — two short paragraphs written purposely bad / messy like you asked:\\n\\ni was like woke up real late n couldnt find my phone n everything was a mess. teacher was yellin but i didn’t care, i just rolled outta bed n threw on some clothes, ya know? food was cold as hell but i ate it anyway cus whatever. day went by slow n boring, ppl keep talkin that same old stuff, i zoned out and doodled on my book instead.\\n\\nthen evening came n i tried doin homework but brain was done, couldnt focus, just scribbled some random crap. friends hit me up but i was feelin lazy so i ghosted em, sry not sry. ended up watchin dumb vids n laughing at stupid memes till sleepy took over. that’s it, nothing fancy, just one of those meh days.\\n\\n',\n",
       " 'language_feedback': \"The essay uses extremely informal language, slang, and numerous grammatical errors, consistent with the user's request for a 'purposely bad / messy' writing style. It lacks formal structure and sophisticated vocabulary.\",\n",
       " 'analysis_feedback': \"The essay lacks any depth of analysis. It's written in a very casual, almost stream-of-consciousness style, focusing on superficial daily events without any introspection, critical thought, or exploration of themes. The language is simplistic and unrefined, further hindering any potential for deeper analysis.\",\n",
       " 'clarity_feedback': 'The essay demonstrates a significant lack of clarity in thought. The ideas are disjointed and presented in a stream-of-consciousness manner, making it difficult to follow a coherent narrative or main point. The language is highly informal and unrefined, further contributing to the muddled expression. There is no clear structure or logical progression of ideas, which severely hinders the clarity of thought.',\n",
       " 'overall_feedback': 'The feedback consistently highlights issues across language, depth of analysis, and clarity of thought.\\n\\nRegarding **language**, the essay employs an extremely informal style, characterized by slang and numerous grammatical errors, which aligns with the user\\'s request for a \"purposely bad / messy\" writing. This unrefined language, coupled with a casual, stream-of-consciousness approach, contributes to a significant **lack of depth**. The analysis remains superficial, focusing on daily events without introspection, critical thought, or exploration of themes.\\n\\nFurthermore, the essay suffers from a severe **lack of clarity**, with disjointed ideas and no coherent narrative or logical progression. The absence of formal structure and sophisticated vocabulary further hinders both the clarity of thought and the potential for deeper analytical engagement.',\n",
       " 'individual_scores': [1, 2, 2],\n",
       " 'avg_score': 1.6666666666666667}"
      ]
     },
     "execution_count": 53,
     "metadata": {},
     "output_type": "execute_result"
    }
   ],
   "source": [
    "initial_state = {\n",
    "    'essay' : essay2\n",
    "}\n",
    "workflow.invoke(initial_state)"
   ]
  },
  {
   "cell_type": "code",
   "execution_count": null,
   "id": "81984476",
   "metadata": {},
   "outputs": [],
   "source": []
  }
 ],
 "metadata": {
  "kernelspec": {
   "display_name": "Python 3",
   "language": "python",
   "name": "python3"
  },
  "language_info": {
   "codemirror_mode": {
    "name": "ipython",
    "version": 3
   },
   "file_extension": ".py",
   "mimetype": "text/x-python",
   "name": "python",
   "nbconvert_exporter": "python",
   "pygments_lexer": "ipython3",
   "version": "3.13.7"
  }
 },
 "nbformat": 4,
 "nbformat_minor": 5
}
