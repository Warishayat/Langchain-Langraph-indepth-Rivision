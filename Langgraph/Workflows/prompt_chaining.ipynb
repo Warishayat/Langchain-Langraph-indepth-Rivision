{
 "cells": [
  {
   "cell_type": "code",
   "execution_count": null,
   "id": "892f2321",
   "metadata": {},
   "outputs": [],
   "source": []
  },
  {
   "cell_type": "code",
   "execution_count": 20,
   "id": "7cd49692",
   "metadata": {},
   "outputs": [
    {
     "data": {
      "text/plain": [
       "AIMessage(content='2 + 2 = 4', additional_kwargs={}, response_metadata={'prompt_feedback': {'block_reason': 0, 'safety_ratings': []}, 'finish_reason': 'STOP', 'safety_ratings': []}, id='run--a781841d-7510-47f2-b996-66752a74d972-0', usage_metadata={'input_tokens': 8, 'output_tokens': 7, 'total_tokens': 35, 'input_token_details': {'cache_read': 0}})"
      ]
     },
     "execution_count": 20,
     "metadata": {},
     "output_type": "execute_result"
    }
   ],
   "source": [
    "Model = ChatGoogleGenerativeAI(model=\"gemini-2.5-flash\",api_key=GOOGLE_API_KEY)\n",
    "Model.invoke('What is 2+2?')"
   ]
  },
  {
   "cell_type": "code",
   "execution_count": 21,
   "id": "a7c0bb01",
   "metadata": {},
   "outputs": [],
   "source": [
    "class BlogState(TypedDict):\n",
    "    title:str\n",
    "    outline :str\n",
    "    content:str"
   ]
  },
  {
   "cell_type": "code",
   "execution_count": 22,
   "id": "b05c8459",
   "metadata": {},
   "outputs": [],
   "source": [
    "def genrate_outline(state:BlogState)->BlogState:\n",
    "    title = state['title']\n",
    "    prompt =f\"\"\"Your are a helpfull assistant based on the title genrate the detailed blog outline.\\n{title}\"\"\"\n",
    "    outline=Model.invoke(prompt)\n",
    "\n",
    "    state['outline'] = outline\n",
    "    return state\n"
   ]
  },
  {
   "cell_type": "code",
   "execution_count": 23,
   "id": "48cb9ac2",
   "metadata": {},
   "outputs": [],
   "source": [
    "def genrate_blog(state:BlogState)->BlogState:\n",
    "    outline = state['outline']\n",
    "    prompt = f\"\"\"Based on this detailed on the title {state['title']} and on outline genrate the blog content for me it should be relevent concise and to the point-outlines is \\n{outline}\"\"\"\n",
    "    content = Model.invoke(prompt)\n",
    "    state['content']=content\n",
    "    return state"
   ]
  },
  {
   "cell_type": "code",
   "execution_count": 24,
   "id": "79189dcb",
   "metadata": {},
   "outputs": [],
   "source": [
    "from langgraph.graph import StateGraph,START,END\n",
    "Graph =  StateGraph(BlogState)"
   ]
  },
  {
   "cell_type": "code",
   "execution_count": 25,
   "id": "c4935de2",
   "metadata": {},
   "outputs": [],
   "source": [
    "# add edges and nodes\n",
    "Graph.add_node(\"genrate_outline\",genrate_outline)\n",
    "Graph.add_node(\"genrate_blog\",genrate_blog)\n",
    "\n",
    "# add edhes\n",
    "Graph.add_edge(START,\"genrate_outline\")\n",
    "Graph.add_edge(\"genrate_outline\",\"genrate_blog\")\n",
    "Graph.add_edge(\"genrate_blog\",END)\n",
    "\n",
    "\n",
    "workflow = Graph.compile()"
   ]
  },
  {
   "cell_type": "code",
   "execution_count": 26,
   "id": "07df4c01",
   "metadata": {},
   "outputs": [
    {
     "name": "stdout",
     "output_type": "stream",
     "text": [
      "Problem: There was a problem: Failed to reach https://mermaid.ink/ API while trying to render your graph. Status code: 502.\n",
      "\n",
      "To resolve this issue:\n",
      "1. Check your internet connection and try again\n",
      "2. Try with higher retry settings: `draw_mermaid_png(..., max_retries=5, retry_delay=2.0)`\n",
      "3. Use the Pyppeteer rendering method which will render your graph locally in a browser: `draw_mermaid_png(..., draw_method=MermaidDrawMethod.PYPPETEER)`\n"
     ]
    }
   ],
   "source": [
    "from IPython.display import display, Image\n",
    "\n",
    "try:\n",
    "    img_data = workflow.get_graph().draw_mermaid_png()\n",
    "    display(Image(data=img_data))\n",
    "except Exception as e:\n",
    "    print(f\"Problem: There was a problem: {e}\")\n"
   ]
  },
  {
   "cell_type": "code",
   "execution_count": 27,
   "id": "eac0380f",
   "metadata": {},
   "outputs": [
    {
     "name": "stdout",
     "output_type": "stream",
     "text": [
      "{'title': 'quantum physics', 'outline': AIMessage(content='Okay, this is a fantastic topic! Quantum Physics is inherently fascinating, mind-bending, and crucial to our understanding of the universe. Here\\'s a detailed blog outline designed to engage a broad audience, from curious beginners to those with a basic science background.\\n\\n---\\n\\n## Blog Title: Decoding the Quantum Realm: A Journey into the Universe\\'s Weirdest Physics\\n\\n**Meta Description:** Dive into the mind-bending world of Quantum Physics! Explore its core concepts, famous experiments, real-world applications, and the mysteries that continue to challenge our understanding of reality.\\n\\n---\\n\\n### I. Introduction: Welcome to the Quantum Wonderland\\n\\n*   **A. The Hook: Beyond Everyday Reality**\\n    *   Start with a statement about how our everyday experience of the world differs dramatically from what happens at the smallest scales.\\n    *   \"What if everything you thought you knew about reality was just a macroscopic illusion?\"\\n*   **B. What is Quantum Physics? (A High-Level Definition)**\\n    *   Briefly define it as the branch of physics dealing with the behavior of matter and energy at the atomic and subatomic levels.\\n    *   Emphasize its revolutionary nature, breaking from classical physics.\\n*   **C. Why Should You Care?**\\n    *   It\\'s not just abstract theory – it underpins virtually all modern technology (lasers, computers, MRI).\\n    *   It challenges our deepest philosophical assumptions about reality.\\n*   **D. What This Blog Will Cover (Roadmap)**\\n    *   A brief overview of the journey ahead: from its origins to its future.\\n\\n### II. The Dawn of the Quantum Age: Why Classical Physics Failed\\n\\n*   **A. The Limits of Classical Physics**\\n    *   Briefly explain classical physics (Newton, Maxwell) worked well for the macroscopic world.\\n    *   Introduce the \"crisis\" points where classical physics couldn\\'t explain phenomena.\\n*   **B. Key Problems Classical Physics Couldn\\'t Solve:**\\n    *   **1. Blackbody Radiation:** Max Planck\\'s revolutionary idea of \"energy packets\" (quanta) in 1900.\\n    *   **2. The Photoelectric Effect:** Einstein\\'s explanation of light as particles (photons) winning him the Nobel Prize.\\n    *   **3. Atomic Stability:** Why don\\'t electrons just spiral into the nucleus? (Bohr\\'s model as an early quantum fix).\\n\\n### III. The Mind-Bending Core Concepts of Quantum Physics\\n\\n*   **A. Quantization: Everything Comes in Packets**\\n    *   Explain Planck\\'s original idea – energy isn\\'t continuous but comes in discrete \"quanta.\"\\n    *   Analogy: Like stairs instead of a ramp.\\n*   **B. Wave-Particle Duality: Is it a Wave or a Particle? Yes!**\\n    *   Explain how light behaves as both (photons, interference patterns).\\n    *   Introduce de Broglie\\'s hypothesis: even matter (electrons!) has wave-like properties.\\n    *   **The Double-Slit Experiment:** Detail this iconic experiment as the ultimate demonstration of wave-particle duality for both light and matter.\\n        *   What happens when observed vs. unobserved? (The role of the observer).\\n*   **C. Superposition: Being in Multiple Places at Once**\\n    *   Explain that a quantum particle can exist in multiple states simultaneously until measured.\\n    *   **Schrödinger\\'s Cat:** Use this famous thought experiment to illustrate the concept (and its macroscopic absurdity).\\n*   **D. Entanglement: Spooky Action at a Distance**\\n    *   Describe how two or more particles can become linked, sharing the same fate regardless of distance.\\n    *   \"If you measure one, you instantly know the state of the other.\"\\n    *   Mention Einstein\\'s famous dismissal (\"spooky action at a distance\").\\n*   **E. The Uncertainty Principle: You Can\\'t Know Everything**\\n    *   Heisenberg\\'s principle: You cannot simultaneously know both the exact position and momentum (or energy and time) of a particle with absolute precision.\\n    *   It\\'s not about measurement limitations, but a fundamental property of nature.\\n*   **F. Probability Reigns Supreme**\\n    *   Unlike classical physics, quantum mechanics often describes outcomes in terms of probabilities, not certainties.\\n\\n### IV. The Architects of the Quantum World (Brief Mentions)\\n\\n*   **A. Max Planck:** The reluctant father.\\n*   **B. Albert Einstein:** His contributions and his famous struggles with the implications.\\n*   **C. Niels Bohr:** The Copenhagen Interpretation.\\n*   **D. Werner Heisenberg:** The Uncertainty Principle.\\n*   **E. Erwin Schrödinger:** The wave equation and the cat.\\n*   **F. Richard Feynman:** The path integral formulation and his famous lectures.\\n\\n### V. Quantum Physics in Your Everyday Life (Applications)\\n\\n*   **A. Lasers:** From CD/DVD/Blu-ray players to fiber optics, medical surgery, and barcode scanners.\\n*   **B. Transistors & Semiconductors:** The foundation of all modern electronics – computers, smartphones, tablets.\\n*   **C. MRI (Magnetic Resonance Imaging):** Revolutionary medical diagnostic tool.\\n*   **D. Atomic Clocks:** Essential for GPS and precise timing.\\n*   **E. LED Lights:** Energy-efficient lighting.\\n*   **F. Solar Cells:** Converting light into electricity.\\n\\n### VI. The Future is Quantum: Unanswered Questions & Emerging Technologies\\n\\n*   **A. Quantum Computing:** The promise of exponentially more powerful computers for complex problems (drug discovery, material science, AI).\\n*   **B. Quantum Cryptography:** Ultra-secure communication using quantum principles.\\n*   **C. Quantum Sensors:** Super-sensitive devices for gravity, magnetic fields, and time.\\n*   **D. The Quest for a Grand Unified Theory:** Can quantum mechanics be reconciled with general relativity (gravity)?\\n*   **E. Interpretations of Quantum Mechanics:**\\n    *   Copenhagen Interpretation (most common).\\n    *   Many-Worlds Interpretation.\\n    *   Pilot-Wave Theory.\\n    *   The ongoing debate about what it all *means*.\\n\\n### VII. Conclusion: A Universe More Mysterious Than We Imagined\\n\\n*   **A. Recap the Journey:** Briefly reiterate the key takeaways – the weirdness, the power, the fundamental nature of quantum physics.\\n*   **B. The Enduring Mystery:** Emphasize that despite its successes, quantum physics still holds profound mysteries and challenges our intuition.\\n*   **C. A Call to Wonder:** Encourage readers to continue exploring and appreciating the incredible complexity and beauty of the quantum realm.\\n*   **D. Final Thought:** \"The universe isn\\'t just stranger than we imagine, it\\'s stranger than we *can* imagine.\" (Arthur Eddington, adapted).\\n\\n### VIII. Further Reading / Resources (Optional but Recommended)\\n\\n*   **A. Books:** Suggest accessible books for beginners (e.g., \"Quantum Enigma,\" \"Seven Brief Lessons on Physics\").\\n*   **B. Websites/Videos:** Recommend reputable science sites or YouTube channels.\\n\\n---\\n\\nThis outline provides a comprehensive yet digestible structure for a blog post on Quantum Physics, balancing scientific accuracy with engaging storytelling. Good luck!', additional_kwargs={}, response_metadata={'prompt_feedback': {'block_reason': 0, 'safety_ratings': []}, 'finish_reason': 'STOP', 'safety_ratings': []}, id='run--64833192-2926-4c81-a079-977937cc564f-0', usage_metadata={'input_tokens': 21, 'output_tokens': 1561, 'total_tokens': 2805, 'input_token_details': {'cache_read': 0}}), 'content': AIMessage(content='## Decoding the Quantum Realm: A Journey into the Universe\\'s Weirdest Physics\\n\\n**Meta Description:** Dive into the mind-bending world of Quantum Physics! Explore its core concepts, famous experiments, real-world applications, and the mysteries that continue to challenge our understanding of reality.\\n\\n---\\n\\n### I. Introduction: Welcome to the Quantum Wonderland\\n\\nWhat if everything you thought you knew about reality was just a macroscopic illusion? Our everyday world feels solid and predictable, but venture to the smallest scales – the realm of atoms and subatomic particles – and reality dissolves into a bizarre, probabilistic dance. This is the quantum realm, and the science that governs it is **Quantum Physics**.\\n\\nThis revolutionary branch of physics explores how matter and energy behave at their most fundamental level, completely breaking from the classical physics that describes the world we can see and touch. Why should you care about such abstract concepts? Because quantum physics isn\\'t just theory; it underpins virtually all modern technology, from the smartphone in your hand to medical MRI machines, and it challenges our deepest philosophical assumptions about the very nature of reality.\\n\\nJoin us as we journey from the origins of quantum theory to its mind-bending core concepts, its impact on our daily lives, and the incredible future it promises.\\n\\n### II. The Dawn of the Quantum Age: Why Classical Physics Failed\\n\\nFor centuries, classical physics, spearheaded by giants like Newton and Maxwell, successfully explained everything from planetary motion to electromagnetism. But as scientists probed deeper into the microscopic world, cracks began to appear. Classical models simply couldn\\'t explain several critical phenomena:\\n\\n1.  **Blackbody Radiation:** Why did heated objects emit light in specific patterns? Max Planck, in 1900, proposed a radical idea: energy isn\\'t continuous but comes in discrete \"packets\" or \"quanta.\"\\n2.  **The Photoelectric Effect:** When light shines on a metal, it can eject electrons. Classical physics failed to explain why the *color* (frequency) of light mattered more than its *brightness* (intensity). Albert Einstein explained this by suggesting light itself consists of particles called photons, winning him the Nobel Prize.\\n3.  **Atomic Stability:** According to classical physics, electrons orbiting a nucleus should constantly lose energy and spiral inward, causing atoms to collapse. Niels Bohr proposed an early quantum fix, suggesting electrons could only exist in specific, stable energy levels.\\n\\nThese anomalies signaled the end of classical physics\\' reign at the atomic scale and ushered in the quantum age.\\n\\n### III. The Mind-Bending Core Concepts of Quantum Physics\\n\\nPrepare to have your intuition challenged. Quantum mechanics introduces concepts that defy our everyday experience:\\n\\n*   **A. Quantization: Everything Comes in Packets**\\n    Just like stairs have discrete steps rather than a continuous ramp, energy, momentum, and other properties at the quantum level are not continuous. They exist only in specific, discrete units – \"quanta.\"\\n\\n*   **B. Wave-Particle Duality: Is it a Wave or a Particle? Yes!**\\n    One of quantum physics\\' most baffling revelations is that light and matter (like electrons) can behave as both waves *and* particles. The **Double-Slit Experiment** is the ultimate demonstration: fire electrons at two slits, and they create an interference pattern like waves. But try to *observe* which slit they go through, and they behave like individual particles, passing through one slit or the other! The act of observation fundamentally changes the outcome.\\n\\n*   **C. Superposition: Being in Multiple Places at Once**\\n    A quantum particle can exist in multiple possible states simultaneously until it is measured. Imagine a coin spinning in the air: it\\'s neither heads nor tails until it lands. To illustrate this macroscopic absurdity, Erwin Schrödinger famously proposed **Schrödinger\\'s Cat**: a cat in a sealed box, whose fate (alive or dead) is linked to a quantum event, meaning the cat is simultaneously both alive *and* dead until the box is opened.\\n\\n*   **D. Entanglement: Spooky Action at a Distance**\\n    Two or more quantum particles can become intrinsically linked, or \"entangled,\" sharing the same fate regardless of the distance separating them. Measure the property of one entangled particle, and you instantly know the state of the other, no matter how far apart they are. Einstein famously dismissed this as \"spooky action at a distance,\" but experiments have repeatedly confirmed its reality.\\n\\n*   **E. The Uncertainty Principle: You Can\\'t Know Everything**\\n    Werner Heisenberg\\'s **Uncertainty Principle** states that you cannot simultaneously know both the exact position and momentum (or energy and time) of a particle with absolute precision. It\\'s not a limitation of our measuring tools, but a fundamental property of nature itself. The more precisely you know one, the less precisely you can know the other.\\n\\n*   **F. Probability Reigns Supreme**\\n    Unlike classical physics, which predicts certain outcomes, quantum mechanics often describes events in terms of probabilities. We can calculate the likelihood of different outcomes, but not always predict with certainty which one will occur.\\n\\n### IV. The Architects of the Quantum World (Brief Mentions)\\n\\nThe quantum revolution was a collaborative effort by brilliant minds:\\n*   **Max Planck:** The reluctant father, introducing the concept of quanta.\\n*   **Albert Einstein:** Explained the photoelectric effect but struggled with the implications of entanglement.\\n*   **Niels Bohr:** Developed an early atomic model and the Copenhagen Interpretation.\\n*   **Werner Heisenberg:** Formulated the Uncertainty Principle.\\n*   **Erwin Schrödinger:** Developed the wave equation and the famous cat thought experiment.\\n*   **Richard Feynman:** Developed the path integral formulation, offering a new way to understand quantum mechanics.\\n\\n### V. Quantum Physics in Your Everyday Life (Applications)\\n\\nQuantum physics isn\\'t just for labs; it\\'s deeply embedded in modern technology:\\n\\n*   **Lasers:** From barcode scanners and fiber optic communication to Blu-ray players and medical surgery.\\n*   **Transistors & Semiconductors:** The tiny switches that form the foundation of all modern electronics – computers, smartphones, and tablets.\\n*   **MRI (Magnetic Resonance Imaging):** A powerful diagnostic tool used in medicine to see inside the human body.\\n*   **Atomic Clocks:** Incredibly precise timekeepers essential for GPS navigation and global communication.\\n*   **LED Lights:** Energy-efficient lighting that uses quantum principles to emit light.\\n*   **Solar Cells:** Convert sunlight directly into electricity, harnessing the photoelectric effect.\\n\\n### VI. The Future is Quantum: Unanswered Questions & Emerging Technologies\\n\\nThe quantum journey is far from over. It continues to inspire groundbreaking research and promises even more transformative technologies:\\n\\n*   **A. Quantum Computing:** Imagine computers exponentially more powerful than anything today, capable of solving complex problems in drug discovery, material science, and artificial intelligence.\\n*   **B. Quantum Cryptography:** Ultra-secure communication methods that use quantum principles to ensure tamper-proof information exchange.\\n*   **C. Quantum Sensors:** Super-sensitive devices for measuring gravity, magnetic fields, and time with unprecedented precision.\\n*   **D. The Quest for a Grand Unified Theory:** One of physics\\' greatest challenges is reconciling quantum mechanics with general relativity (Einstein\\'s theory of gravity) to create a single, unified theory of everything.\\n*   **E. Interpretations of Quantum Mechanics:** The debate continues about what quantum mechanics *actually means*. Is the Copenhagen Interpretation (the most common) correct? Does the Many-Worlds Interpretation suggest countless parallel universes? Or is there another explanation?\\n\\n### VII. Conclusion: A Universe More Mysterious Than We Imagined\\n\\nOur journey through the quantum realm has revealed a universe far stranger, more probabilistic, and more interconnected than our everyday senses suggest. From the quantization of energy to the bizarre realities of superposition and entanglement, quantum physics has reshaped our understanding of matter, energy, and reality itself.\\n\\nDespite its incredible successes and technological applications, quantum physics still holds profound mysteries, challenging our intuition and pushing the boundaries of human comprehension. It reminds us that the fundamental nature of reality is often counter-intuitive and endlessly fascinating.\\n\\nSo, continue to wonder, explore, and appreciate the incredible complexity and beauty of the quantum realm. As Arthur Eddington famously said, adapted for our age: \"The universe isn\\'t just stranger than we imagine, it\\'s stranger than we *can* imagine.\"\\n\\n---\\n\\n### VIII. Further Reading / Resources\\n\\n*   **Books:**\\n    *   \"Quantum Enigma: Physics Encounters Consciousness\" by Bruce Rosenblum & Fred Kuttner\\n    *   \"Seven Brief Lessons on Physics\" by Carlo Rovelli\\n    *   \"Quantum Physics for Dummies\" by Steven Holzner\\n*   **Websites/Videos:**\\n    *   MinutePhysics (YouTube channel)\\n    *   PBS Space Time (YouTube channel)\\n    *   NIST (National Institute of Standards and Technology) for quantum computing updates', additional_kwargs={}, response_metadata={'prompt_feedback': {'block_reason': 0, 'safety_ratings': []}, 'finish_reason': 'STOP', 'safety_ratings': []}, id='run--8eb0f646-8e82-4753-847b-2863a9d9b058-0', usage_metadata={'input_tokens': 1805, 'output_tokens': 1866, 'total_tokens': 4151, 'input_token_details': {'cache_read': 0}})}\n"
     ]
    }
   ],
   "source": [
    "intial_state = {\"title\":\"quantum physics\"}\n",
    "result = workflow.invoke(intial_state)\n",
    "print(result)"
   ]
  },
  {
   "cell_type": "code",
   "execution_count": null,
   "id": "0dd86f06",
   "metadata": {},
   "outputs": [],
   "source": []
  }
 ],
 "metadata": {
  "kernelspec": {
   "display_name": "Python 3",
   "language": "python",
   "name": "python3"
  },
  "language_info": {
   "codemirror_mode": {
    "name": "ipython",
    "version": 3
   },
   "file_extension": ".py",
   "mimetype": "text/x-python",
   "name": "python",
   "nbconvert_exporter": "python",
   "pygments_lexer": "ipython3",
   "version": "3.13.7"
  }
 },
 "nbformat": 4,
 "nbformat_minor": 5
}
