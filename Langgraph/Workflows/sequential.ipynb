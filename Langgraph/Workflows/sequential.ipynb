{
 "cells": [
  {
   "cell_type": "code",
   "execution_count": null,
   "id": "1c036ec3",
   "metadata": {},
   "outputs": [],
   "source": []
  },
  {
   "cell_type": "code",
   "execution_count": 6,
   "id": "386fea15",
   "metadata": {},
   "outputs": [],
   "source": [
    "#IN THIS notebook i will dicussed th sequential or prompt chaining workflows"
   ]
  },
  {
   "cell_type": "code",
   "execution_count": 27,
   "id": "32506dac",
   "metadata": {},
   "outputs": [],
   "source": [
    "class TestingState(BaseModel):\n",
    "    a:int\n",
    "    b:int\n",
    "    result: Optional[int] = None"
   ]
  },
  {
   "cell_type": "code",
   "execution_count": 36,
   "id": "81b96685",
   "metadata": {},
   "outputs": [],
   "source": [
    "def multiplication(state:TestingState):\n",
    "    num1 = state.a\n",
    "    num2 = state.b\n",
    "    return {\"result\": num1 * num2}\n"
   ]
  },
  {
   "cell_type": "code",
   "execution_count": 37,
   "id": "18959dcb",
   "metadata": {},
   "outputs": [],
   "source": [
    "from langgraph.graph import StateGraph,START,END"
   ]
  },
  {
   "cell_type": "code",
   "execution_count": 38,
   "id": "c9f4a3f2",
   "metadata": {},
   "outputs": [],
   "source": [
    "graph = StateGraph(TestingState)"
   ]
  },
  {
   "cell_type": "code",
   "execution_count": 39,
   "id": "7a242dc9",
   "metadata": {},
   "outputs": [
    {
     "data": {
      "text/plain": [
       "<langgraph.graph.state.StateGraph at 0x1f8e2d4e350>"
      ]
     },
     "execution_count": 39,
     "metadata": {},
     "output_type": "execute_result"
    }
   ],
   "source": [
    "graph.add_node(\"multiplication\",multiplication)\n",
    "graph.add_edge(START,\"multiplication\")\n",
    "graph.add_edge(\"multiplication\",END)"
   ]
  },
  {
   "cell_type": "code",
   "execution_count": 40,
   "metadata": {},
   "outputs": [],
   "source": [
    "workflow=graph.compile()"
   ]
  },
  {
   "cell_type": "code",
   "execution_count": 41,
   "id": "5eab1877",
   "metadata": {},
   "outputs": [
    {
     "data": {
      "image/png": "[encoded data removed]",
      "text/plain": [
       "<IPython.core.display.Image object>"
      ]
     },
     "metadata": {},
     "output_type": "display_data"
    }
   ],
   "source": [
    "from IPython.display import display, Image\n",
    "\n",
    "try:\n",
    "    img_data = workflow.get_graph().draw_mermaid_png()\n",
    "    display(Image(data=img_data))\n",
    "except Exception as e:\n",
    "    print(f\"Problem: There was a problem: {e}\")\n"
   ]
  },
  {
   "cell_type": "code",
   "execution_count": 42,
   "id": "e2e5253e",
   "metadata": {},
   "outputs": [
    {
     "name": "stdout",
     "output_type": "stream",
     "text": [
      "{'a': 12, 'b': 13, 'result': 156}\n"
     ]
    }
   ],
   "source": [
    "initial_state = {\"a\":12,\"b\":13}\n",
    "result=workflow.invoke(initial_state)\n",
    "print(result)"
   ]
  },
  {
   "cell_type": "code",
   "execution_count": null,
   "id": "1349c622",
   "metadata": {},
   "outputs": [],
   "source": []
  },
  {
   "cell_type": "code",
   "execution_count": null,
   "id": "91383433",
   "metadata": {},
   "outputs": [],
   "source": []
  }
 ],
 "metadata": {
  "kernelspec": {
   "display_name": "Python 3",
   "language": "python",
   "name": "python3"
  },
  "language_info": {
   "codemirror_mode": {
    "name": "ipython",
    "version": 3
   },
   "file_extension": ".py",
   "mimetype": "text/x-python",
   "name": "python",
   "nbconvert_exporter": "python",
   "pygments_lexer": "ipython3",
   "version": "3.13.7"
  }
 },
 "nbformat": 4,
 "nbformat_minor": 5
}
