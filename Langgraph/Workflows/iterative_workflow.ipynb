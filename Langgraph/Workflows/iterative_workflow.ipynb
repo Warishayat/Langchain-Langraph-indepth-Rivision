{
 "cells": [
  {
   "cell_type": "code",
   "execution_count": 2,
   "id": "597ecc19",
   "metadata": {},
   "outputs": [
    {
     "name": "stderr",
     "output_type": "stream",
     "text": [
      "c:\\Users\\HP\\AppData\\Local\\Programs\\Python\\Python313\\Lib\\site-packages\\tqdm\\auto.py:21: TqdmWarning: IProgress not found. Please update jupyter and ipywidgets. See https://ipywidgets.readthedocs.io/en/stable/user_install.html\n",
      "  from .autonotebook import tqdm as notebook_tqdm\n"
     ]
    }
   ],
   "source": [
    "import os \n",
    "from dotenv import load_dotenv\n",
    "from langchain_google_genai import ChatGoogleGenerativeAI\n",
    "from langchain_groq import ChatGroq\n",
    "from pydantic import BaseModel,Field\n",
    "from typing import Optional,Literal\n",
    "from typing import TypedDict\n",
    "load_dotenv()\n",
    "\n",
    "\n",
    "\n",
    "GROQ_API_KEY = os.getenv(\"GROQ_API_KEY\")\n",
    "GOOGLE_API_KEY = os.getenv(\"GOOGLE_API_KEY\")\n"
   ]
  },
  {
   "cell_type": "code",
   "execution_count": 3,
   "id": "ec6c464c",
   "metadata": {},
   "outputs": [],
   "source": [
    "Model = ChatGoogleGenerativeAI(model='gemini-2.5-flash',api_key=GOOGLE_API_KEY,temperature=.5)\n",
    "evaluator_llm =  ChatGoogleGenerativeAI(model='gemini-2.5-flash',api_key=GOOGLE_API_KEY,temperature=0)\n",
    "optimizer_llm = ChatGoogleGenerativeAI(model='gemini-2.5-flash',api_key=GOOGLE_API_KEY,temperature=.7)\n"
   ]
  },
  {
   "cell_type": "code",
   "execution_count": 4,
   "id": "0c6f2d86",
   "metadata": {},
   "outputs": [
    {
     "data": {
      "text/plain": [
       "\"Let's break it down:\\n\\n1.  **First, calculate 2 + 2:**\\n    2 + 2 = 4\\n\\n2.  **Then, multiply that result by 5:**\\n    4 * 5 = 20\\n\\nSo, the answer is **20**.\""
      ]
     },
     "execution_count": 4,
     "metadata": {},
     "output_type": "execute_result"
    }
   ],
   "source": [
    "Model.invoke(\"what is 2+2 and multiply with 5\").content"
   ]
  },
  {
   "cell_type": "code",
   "execution_count": 10,
   "id": "2ee98af5",
   "metadata": {},
   "outputs": [],
   "source": [
    "from langgraph.graph import StateGraph,START,END\n",
    "from langchain_core.messages import SystemMessage,HumanMessage,AIMessage"
   ]
  },
  {
   "cell_type": "code",
   "execution_count": null,
   "metadata": {},
   "outputs": [],
   "source": [
    "# Lets the dicuss the workflow.\n",
    "\n",
    "# 1: start\n",
    "# 2: genration\n",
    "# 3: evaluate \n",
    "# 4: if need improvemenet then # Optimize \n",
    "# Approved End"
   ]
  },
  {
   "cell_type": "code",
   "execution_count": null,
   "id": "0a12c41c",
   "metadata": {},
   "outputs": [],
   "source": [
    "#state \n",
    "# topic:str\n",
    "# genrate the topic on the post \n",
    "# ealuate if need improvement then optimize node else end "
   ]
  },
  {
   "cell_type": "code",
   "execution_count": 5,
   "id": "53c6b856",
   "metadata": {},
   "outputs": [],
   "source": [
    "# State\n",
    "class TweetSatate(TypedDict):\n",
    "    topic:str\n",
    "    tweet:str\n",
    "    evaluation : Literal[\"approved\",'need_improvement']\n",
    "    feedback:str\n",
    "    iteration:int\n",
    "    max_iteration:int"
   ]
  },
  {
   "cell_type": "code",
   "execution_count": 8,
   "id": "10393211",
   "metadata": {},
   "outputs": [],
   "source": [
    "graph = StateGraph(TweetSatate)"
   ]
  },
  {
   "cell_type": "code",
   "execution_count": 12,
   "id": "e30c5c25",
   "metadata": {},
   "outputs": [],
   "source": [
    "def genrate_tweet(state:TweetSatate):\n",
    "   message = [\n",
    "      SystemMessage(content='you are a funny and cleaver tweet/x writing influncer.'),\n",
    "      HumanMessage(content=f\"\"\"\n",
    "      you are a helpfull assistant to write the tweet on the given topic.\n",
    "        tweet should be clear,concise and according to the topic. if there is no\n",
    "        information or user may asking that you dont know just simply mentioned \n",
    "        i dont have idea about this thing. I tweet tried to mention the words that \n",
    "        are easy to read and understand ,dont add to much heavy words ,which cant\n",
    "        understand by the poeple.Max character should be arround 300.\n",
    "      topic is - {state['tweet']}\n",
    "      \"\"\")\n",
    "   ]\n",
    "   response=Model.invoke(message).content\n",
    "\n",
    "   return {'tweet':response}"
   ]
  },
  {
   "cell_type": "code",
   "execution_count": 18,
   "id": "72a0c93a",
   "metadata": {},
   "outputs": [],
   "source": [
    "class EvaluationSchema(BaseModel):\n",
    "    evaluation:Literal[\"approved\",'need_improvement']\n",
    "    feedback:str = Field(description=\"constructive feedback for the tweet\")\n",
    "    score :float = Field(description=\"total score out of 0 to 5\",gt=0,lt=5)"
   ]
  },
  {
   "cell_type": "code",
   "execution_count": null,
   "id": "6d357122",
   "metadata": {},
   "outputs": [
    {
     "data": {
      "text/plain": [
       "EvaluationSchema(evaluation='approved', feedback='The tweet is concise, grammatically correct, and uses an emoji and hashtag effectively for engagement. The message is clear and motivational.', score=4.5)"
      ]
     },
     "execution_count": 19,
     "metadata": {},
     "output_type": "execute_result"
    }
   ],
   "source": [
    "structured_model = evaluator_llm.with_structured_output(EvaluationSchema)\n"
   ]
  },
  {
   "cell_type": "code",
   "execution_count": 22,
   "id": "81efce30",
   "metadata": {},
   "outputs": [],
   "source": [
    "def evaluate_tweet(state:TweetSatate):\n",
    "    #prompt \n",
    "    prompt = [\n",
    "        SystemMessage(content=\"\"\"\n",
    "        You are a strict tweet evaluator. \n",
    "        You must only respond with one of two exact strings: \"approved\" or \"need_improvement\". \n",
    "        Do not explain, justify, or output anything else. \n",
    "        Evaluation criteria: \n",
    "        - Grammar and spelling must be correct. \n",
    "        - The tweet must be clear and easy to understand. \n",
    "        - The tweet must show engagement potential (catchy or interesting). \n",
    "        - The tone must be consistent (professional, casual, or funny, but not confusing). \n",
    "        - The tweet must not exceed 300 characters. \n",
    "        - The tweet must not contain offensive, harmful, or unsafe content.\n",
    "        \"\"\"),\n",
    "        HumanMessage(content=f\"\"\"\n",
    "        Evaluate the following tweet strictly against the criteria. \n",
    "        eturn only one word: \"approved\" or \"need_improvement\".\n",
    "        Tweet: {state['tweet']}\n",
    "        ### respond only in structured formate\n",
    "        \"\"\")\n",
    "    ]\n",
    "    # llms\n",
    "    response=structured_model.invoke(prompt)\n",
    "    \n",
    "    return{\n",
    "        'evaluation' : response.evaluation,\n",
    "        'feedback' : response.feedback\n",
    "    }"
   ]
  },
  {
   "cell_type": "code",
   "execution_count": 26,
   "id": "e8604973",
   "metadata": {},
   "outputs": [],
   "source": [
    "def optimize_tweet(state: TweetSatate):\n",
    "    prompt_optimized_tweet = [\n",
    "        SystemMessage(content=\"\"\"\n",
    "        You are a helpful assistant that optimizes tweets.\n",
    "        Your task:\n",
    "        - Keep the message clear, grammatically correct, and engaging.\n",
    "        - Ensure the tweet is under 300 characters.\n",
    "        - Optionally add 1–2 relevant emojis or hashtags if they improve engagement.\n",
    "        - Do not change the core meaning of the original tweet.\n",
    "        - Respond only with the optimized tweet text, no explanations.\n",
    "        \"\"\"),\n",
    "        HumanMessage(content=f\"\"\"\n",
    "        rewrite and optimize the following tweet:\n",
    "        topic of the tweet - {state['topic']}\n",
    "        orignal_tweet-\"{state['tweet']}\"\n",
    "        \"\"\")\n",
    "    ]\n",
    "    response = optimizer_llm.invoke(prompt_optimized_tweet).content.strip()\n",
    "    iteration = state['iteration'] + 1\n",
    "    return {'tweet': response,'iteration':iteration}\n"
   ]
  },
  {
   "cell_type": "code",
   "execution_count": null,
   "id": "4eb2fa72",
   "metadata": {},
   "outputs": [],
   "source": [
    "def route_evaluation(state:TweetSatate):\n",
    "    if state['evaluation'] == 'approved' or state['iteration'] == state['max_iteration']:\n",
    "        return 'approved'\n",
    "    else:\n",
    "        'need_improvement'\n",
    "\n"
   ]
  },
  {
   "cell_type": "code",
   "execution_count": null,
   "id": "e323d5ca",
   "metadata": {},
   "outputs": [
    {
     "data": {
      "text/plain": [
       "<langgraph.graph.state.StateGraph at 0x2121da06660>"
      ]
     },
     "execution_count": 27,
     "metadata": {},
     "output_type": "execute_result"
    }
   ],
   "source": [
    "#node\n",
    "graph.add_node(\"genrate\",genrate_tweet)\n",
    "graph.add_node(\"evlauate\",evaluate_tweet)\n",
    "graph.add_node(\"optimize_tweet\",optimize_tweet)\n",
    "\n",
    "# make edges\n",
    "graph.add_edge(START,'genrate')\n",
    "graph.add_edge('genrate','evlauate')\n",
    "graph.add_conditional_edges('evaluate',)"
   ]
  },
  {
   "cell_type": "code",
   "execution_count": null,
   "id": "736f4ecf",
   "metadata": {},
   "outputs": [],
   "source": []
  },
  {
   "cell_type": "code",
   "execution_count": null,
   "id": "3024084b",
   "metadata": {},
   "outputs": [],
   "source": []
  },
  {
   "cell_type": "code",
   "execution_count": null,
   "id": "d2f0776c",
   "metadata": {},
   "outputs": [],
   "source": []
  },
  {
   "cell_type": "code",
   "execution_count": null,
   "id": "57fc389f",
   "metadata": {},
   "outputs": [],
   "source": []
  },
  {
   "cell_type": "code",
   "execution_count": null,
   "id": "9b55b6c9",
   "metadata": {},
   "outputs": [],
   "source": []
  },
  {
   "cell_type": "code",
   "execution_count": null,
   "id": "be9056e3",
   "metadata": {},
   "outputs": [],
   "source": []
  }
 ],
 "metadata": {
  "kernelspec": {
   "display_name": "Python 3",
   "language": "python",
   "name": "python3"
  },
  "language_info": {
   "codemirror_mode": {
    "name": "ipython",
    "version": 3
   },
   "file_extension": ".py",
   "mimetype": "text/x-python",
   "name": "python",
   "nbconvert_exporter": "python",
   "pygments_lexer": "ipython3",
   "version": "3.13.7"
  }
 },
 "nbformat": 4,
 "nbformat_minor": 5
}
